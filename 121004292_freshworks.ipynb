{
 "cells": [
  {
   "cell_type": "code",
   "execution_count": null,
   "metadata": {},
   "outputs": [],
   "source": [
    "import json\n",
    "import os.path\n",
    "class DataStore(object):\n",
    "    def __init__(self):\n",
    "        self.filename = \"test1.txt\"\n",
    "\n",
    "    def writing(self,key,value):\n",
    "\n",
    "        if (os.path.exists(self.filename)):\n",
    "            d2 = json.load(open(self.filename))\n",
    "            if key in d2.keys():\n",
    "                print(\"key already exists\")\n",
    "            else :\n",
    "                d2[key]=value\n",
    "                json.dump(d2, open(self.filename, 'w'))\n",
    "        else :\n",
    "            d2 =dict()\n",
    "            d2[key] = value\n",
    "            json.dump(d2, open(self.filename, 'w'))\n",
    "\n",
    "\n",
    "    def reading(self,key):\n",
    "\n",
    "        if(os.path.exists(self.filename)):\n",
    "\n",
    "            fp = open(self.filename)\n",
    "            d2 = json.load(fp)\n",
    "            fp.close()\n",
    "            return d2[key]\n",
    "        else:\n",
    "            print(\"There are no keys available for reading\")\n",
    "\n",
    "    def deleting(self,key):\n",
    "        if (os.path.exists(self.filename)):\n",
    "            fp = open(self.filename)\n",
    "            d2 = json.load(fp)\n",
    "            if key in d2.keys():\n",
    "                del d2[key]\n",
    "                json.dump(d2, open(self.filename, 'w'))\n",
    "            else:\n",
    "                print(\"The key does not exist\")\n",
    "\n",
    "        else:\n",
    "            print(\"No keys for deleting\")\n",
    "\n",
    "\n",
    "\n",
    "d1 = DataStore()\n",
    "d1.writing(\"car\",{\"lambo\": \"maruti\"})\n",
    "a = d1.reading(\"car\")\n",
    "print(a)\n",
    "d1.deleting(\"car\")\n"
   ]
  }
 ],
 "metadata": {
  "kernelspec": {
   "display_name": "Python 3",
   "language": "python",
   "name": "python3"
  },
  "language_info": {
   "codemirror_mode": {
    "name": "ipython",
    "version": 3
   },
   "file_extension": ".py",
   "mimetype": "text/x-python",
   "name": "python",
   "nbconvert_exporter": "python",
   "pygments_lexer": "ipython3",
   "version": "3.7.6"
  }
 },
 "nbformat": 4,
 "nbformat_minor": 4
}
